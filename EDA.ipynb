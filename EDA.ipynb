{
 "cells": [
  {
   "cell_type": "code",
   "execution_count": null,
   "id": "e54c798f",
   "metadata": {},
   "outputs": [],
   "source": [
    "# ------------------------------------\n",
    "# Exploratory Data Analysis\n",
    "# ------------------------------------\n",
    "import pandas as pd\n",
    "import seaborn as sns\n",
    "import matplotlib.pyplot as plt\n",
    "import numpy as np\n",
    "import patsy as pt\n",
    "from scipy import stats\n",
    "from sklearn.model_selection import train_test_split\n",
    "from sklearn.metrics import accuracy_score, precision_score, recall_score, f1_score, roc_auc_score\n",
    "from scipy.stats import chi2_contingency\n",
    "\n",
    "# Load data\n",
    "df = pd.read_csv(\"data.csv\")\n",
    "\n",
    "# Rename columns if needed\n",
    "df.columns = df.columns.str.strip().str.lower()\n",
    "name_map = {\n",
    "    # \"comfort sharing level\": \"mh_share\",\n",
    "    # \"access to mental health resources\": \"workplace_resources\"\n",
    "}\n",
    "df = df.rename(columns=name_map)\n",
    "\n",
    "# Clean and encode access variable\n",
    "if df['workplace_resources'].dtype == 'O':\n",
    "    df['workplace_resources'] = df['workplace_resources'].str.strip().str.title().map({'Yes':1, 'No':0})\n",
    "\n",
    "# Drop missing values\n",
    "df = df[['mh_share', 'workplace_resources']].dropna()\n",
    "\n",
    "# ------------------------------------\n",
    "# Table 1: Descriptive statistics\n",
    "# ------------------------------------\n",
    "table1 = df.groupby('workplace_resources')['mh_share'].describe().round(2)\n",
    "print(\"\\nTable 1. Descriptive statistics by resource access\\n\")\n",
    "print(table1)\n",
    "\n",
    "# ------------------------------------\n",
    "# Figure 1: Distribution of comfort sharing\n",
    "# ------------------------------------\n",
    "#plt.figure(figsize=(7,5))\n",
    "#plt.hist(df['mh_share'], bins=10, density=True, alpha=0.7)\n",
    "sns.histplot(df['mh_share'], bins=10, stat='density', kde=True, color=\"steelblue\", line_kws={'color' : 'black', 'lw' : 2}, alpha=0.8)\n",
    "#plt.title(\"Figure 1. Distribution of Comfort Sharing Levels\")\n",
    "plt.xlabel(\"Comfort Sharing Level\")\n",
    "plt.ylabel(\"Density\")\n",
    "plt.tight_layout()\n",
    "plt.show()"
   ]
  },
  {
   "cell_type": "code",
   "execution_count": null,
   "id": "10ade3d5",
   "metadata": {},
   "outputs": [],
   "source": [
    "# ------------------------------------\n",
    "# Figure 2: Resource access counts\n",
    "# ------------------------------------\n",
    "plt.figure(figsize=(6,4))\n",
    "sns.countplot(x='workplace_resources', data=df, palette=\"colorblind\")\n",
    "#plt.title(\"Figure 2. Access to Mental Health Resources\")\n",
    "plt.xlabel(\"Access to Resources (0 = No, 1 = Yes)\")\n",
    "plt.ylabel(\"Frequency\")\n",
    "plt.tight_layout()\n",
    "plt.show()"
   ]
  },
  {
   "cell_type": "code",
   "execution_count": null,
   "id": "0f3f2a2f",
   "metadata": {},
   "outputs": [],
   "source": [
    "# ------------------------------------\n",
    "# Figure 3: Boxplot by resource access\n",
    "# ------------------------------------\n",
    "plt.figure(figsize=(7,5))\n",
    "sns.boxplot(x='workplace_resources', y='mh_share', data=df, palette=\"colorblind\")\n",
    "#plt.title(\"Figure 3. Comfort Sharing by Access to Resources (Boxplot)\")\n",
    "plt.xlabel(\"Access to Mental Health Resources\")\n",
    "plt.ylabel(\"Comfort Sharing Level\")\n",
    "plt.tight_layout()\n",
    "plt.show()"
   ]
  },
  {
   "cell_type": "code",
   "execution_count": null,
   "id": "c06464c2",
   "metadata": {},
   "outputs": [],
   "source": [
    "# ------------------------------------\n",
    "# Figure 4: Mean comparison bar plot\n",
    "# ------------------------------------\n",
    "plt.figure(figsize=(7,5))\n",
    "mean_values = df.groupby('workplace_resources')['mh_share'].mean().reset_index()\n",
    "sns.barplot(x='workplace_resources', y='mh_share', data=mean_values, palette=\"colorblind\")\n",
    "#plt.title(\"Figure 4. Mean Comfort Sharing by Resource Access\")\n",
    "plt.xlabel(\"Access to Mental Health Resources\")\n",
    "plt.ylabel(\"Mean Comfort Sharing Level\")\n",
    "plt.tight_layout()\n",
    "plt.show()"
   ]
  },
  {
   "cell_type": "code",
   "execution_count": null,
   "id": "20ea1e8f",
   "metadata": {},
   "outputs": [],
   "source": [
    "# ------------------------------------\n",
    "# Figure 5: Group means with error bars (SD)\n",
    "# ------------------------------------\n",
    "plt.figure(figsize=(7,5))\n",
    "summary = df.groupby('workplace_resources')['mh_share'].agg(['mean','std']).reset_index()\n",
    "plt.bar(summary['workplace_resources'], summary['mean'], yerr=summary['std'], capsize=5)\n",
    "#plt.title(\"Figure 5. Comfort Sharing Means with Standard Deviation\")\n",
    "plt.xlabel(\"Access to Mental Health Resources (0=No, 1=Yes)\")\n",
    "plt.ylabel(\"Mean Comfort Sharing Level\")\n",
    "plt.tight_layout()\n",
    "plt.show()"
   ]
  },
  {
   "cell_type": "code",
   "execution_count": null,
   "id": "08bb7401",
   "metadata": {},
   "outputs": [],
   "source": []
  }
 ],
 "metadata": {
  "kernelspec": {
   "display_name": "Python (my_project_env)",
   "language": "python",
   "name": "my_project_env"
  },
  "language_info": {
   "codemirror_mode": {
    "name": "ipython",
    "version": 3
   },
   "file_extension": ".py",
   "mimetype": "text/x-python",
   "name": "python",
   "nbconvert_exporter": "python",
   "pygments_lexer": "ipython3",
   "version": "3.13.7"
  }
 },
 "nbformat": 4,
 "nbformat_minor": 5
}
