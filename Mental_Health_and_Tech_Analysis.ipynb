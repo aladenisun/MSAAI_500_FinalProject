{
 "cells": [
  {
   "cell_type": "code",
   "execution_count": null,
   "id": "e54c798f",
   "metadata": {},
   "outputs": [],
   "source": [
    "from DataProcessing import pd, np, sns, plt, pt\n",
    "from DataProcessing import preprocess_data\n",
    "from DataAnalysis import compute_descriptive_stats\n",
    "from ModelAnalysis import ttest_resources_vs_comfort\n",
    "from ModelAnalysis import linear_regression_model\n",
    "\n",
    "# ------------------------------------\n",
    "# Data Cleanup and Processing\n",
    "# ------------------------------------\n",
    "df = preprocess_data()"
   ]
  },
  {
   "cell_type": "code",
   "execution_count": null,
   "id": "1f5c1df6",
   "metadata": {},
   "outputs": [],
   "source": [
    "# ------------------------------------\n",
    "# Exploratory Data Analysis\n",
    "# ------------------------------------\n",
    "compute_descriptive_stats(df)"
   ]
  },
  {
   "cell_type": "code",
   "execution_count": null,
   "id": "e0cd4ab2",
   "metadata": {},
   "outputs": [],
   "source": [
    "# ------------------------------------\n",
    "# Model Analysis: T-test\n",
    "# ------------------------------------\n",
    "Ttest_Result = ttest_resources_vs_comfort(df)"
   ]
  },
  {
   "cell_type": "code",
   "execution_count": null,
   "id": "f232ef5d",
   "metadata": {},
   "outputs": [],
   "source": [
    "# ------------------------------------\n",
    "# Model Analysis: T-test\n",
    "# ------------------------------------\n",
    "Regression_Result = linear_regression_model(df)"
   ]
  }
 ],
 "metadata": {
  "kernelspec": {
   "display_name": "Python (my_project_env)",
   "language": "python",
   "name": "my_project_env"
  },
  "language_info": {
   "codemirror_mode": {
    "name": "ipython",
    "version": 3
   },
   "file_extension": ".py",
   "mimetype": "text/x-python",
   "name": "python",
   "nbconvert_exporter": "python",
   "pygments_lexer": "ipython3",
   "version": "3.13.7"
  }
 },
 "nbformat": 4,
 "nbformat_minor": 5
}
