{
 "cells": [
  {
   "cell_type": "markdown",
   "id": "a7694914",
   "metadata": {},
   "source": [
    "# Introduction\n",
    "\n",
    "Mental health in the workplace is an increasingly important issue, especially in the technology industry where job demands are high and stigma often discourages employees from speaking openly. Many companies provide supports such as mental health resources, employer-led discussions, and medical coverage, but the effectiveness of these supports in improving employees’ comfort in discussing mental health is not always clear.\n",
    "\n",
    "In this project, we analyze survey data from technology professionals to examine whether workplace supports influence employees’ comfort in discussing mental health. We focus on three main supports (workplace resources, employer discussion, and medical coverage) along with an engineered feature, combined support, which captures whether an employee has at least two supports available. We also consider demographic effects of gender and age.  \n",
    "\n",
    "Our approach combines exploratory data analysis, hypothesis testing, and predictive modeling to provide both statistical evidence and machine learning insights into the role of workplace supports."
   ]
  },
  {
   "cell_type": "markdown",
   "id": "6eb197cb",
   "metadata": {},
   "source": [
    "# Hypotheses\n",
    "\n",
    "**Null Hypothesis (H₀):** Workplace supports (resources, employer discussion, medical coverage, and combined support) have no effect on employees’ comfort in discussing mental health.  \n",
    "\n",
    "**Alternative Hypothesis (H₁):** Employees with workplace supports (resources, employer discussion, medical coverage, or multiple combined supports) report significantly higher comfort in discussing mental health compared to those without supports.  \n",
    "\n",
    "We will test this using both traditional statistical methods (t-tests, confidence intervals) and predictive modeling (logistic regression, random forest, gradient boosting)."
   ]
  },
  {
   "cell_type": "code",
   "execution_count": null,
   "id": "e54c798f",
   "metadata": {},
   "outputs": [],
   "source": [
    "from DataProcessing import pd, np, sns, plt, pt\n",
    "from DataProcessing import DataProcessor\n",
    "from DescriptiveAnalysis import DescriptiveAnalisis\n",
    "from ModelAnalysis import ModelAnalysis\n",
    "from sklearn.model_selection import train_test_split\n",
    "\n",
    "# Data Cleanup and Processing\n",
    "dp = DataProcessor(\"data.csv\")\n",
    "dp.load_datafile()\n",
    "dp.keep_relevant_columns()\n",
    "dp.filter_tech()\n",
    "df = dp.preprocess_data()\n",
    "\n",
    "print(f\"Rows after filtering and cleaning data: {len(df):,}\")"
   ]
  },
  {
   "cell_type": "code",
   "execution_count": null,
   "id": "1f5c1df6",
   "metadata": {},
   "outputs": [],
   "source": [
    "# Exploratory Data Analysis\n",
    "da = DescriptiveAnalisis(df)\n",
    "desc_table = da.descriptive_stats()\n",
    "display(desc_table.style.set_caption(\"Table X. Descriptive Statistics\")\n",
    "        .format(precision=3))\n",
    "da.descriptive_visualization()"
   ]
  },
  {
   "cell_type": "code",
   "execution_count": null,
   "id": "e0cd4ab2",
   "metadata": {},
   "outputs": [],
   "source": [
    "# Model Analysis: T-test\n",
    "ma = ModelAnalysis(df)\n",
    "ttable = ma.ttest_table()\n",
    "display(ttable.style.set_caption(\"Table Y. Independent Samples t-Tests for Mental Health Sharing (mh_share)\"))"
   ]
  },
  {
   "cell_type": "code",
   "execution_count": null,
   "id": "f232ef5d",
   "metadata": {},
   "outputs": [],
   "source": [
    "# Model Analysis: Regressions Test\n",
    "split = ma.train_test_split()\n",
    "X_train, X_test, y_train, y_test = split.X_train, split.X_test, split.y_train, split.y_test\n",
    "feature_names = list(X_train.columns)\n",
    "\n",
    "# sklearn coefficients/ORs (matches what you printed earlier)\n",
    "log_imp = ma.fit_improved_logistic(X_train, y_train)\n",
    "coef_or = ma.coef_table(log_imp, feature_names)\n",
    "display(coef_or.style.set_caption(\"Table Z. Logistic Regression Coefficients and Odds Ratios (Sklearn)\"))\n",
    "\n",
    "# Optional: statsmodels table with SE, p, CI\n",
    "sm_table, sm_result = ma.statsmodels_logit(X_train, y_train)\n",
    "display(sm_table.style.set_caption(\"Appendix Table. Statsmodels Logit Estimates (Train Set)\"))"
   ]
  },
  {
   "cell_type": "code",
   "execution_count": null,
   "id": "cfe80091",
   "metadata": {},
   "outputs": [],
   "source": [
    "# Model Analysis: Comparing Models Used\n",
    "perf = ma.compare_models(X_train, X_test, y_train, y_test)\n",
    "display(perf.style.set_caption(\"Model Comparison Summary — Test Set\")\n",
    "        .format(precision=3))"
   ]
  }
 ],
 "metadata": {
  "kernelspec": {
   "display_name": "Python (my_project_env)",
   "language": "python",
   "name": "my_project_env"
  },
  "language_info": {
   "codemirror_mode": {
    "name": "ipython",
    "version": 3
   },
   "file_extension": ".py",
   "mimetype": "text/x-python",
   "name": "python",
   "nbconvert_exporter": "python",
   "pygments_lexer": "ipython3",
   "version": "3.13.7"
  }
 },
 "nbformat": 4,
 "nbformat_minor": 5
}
