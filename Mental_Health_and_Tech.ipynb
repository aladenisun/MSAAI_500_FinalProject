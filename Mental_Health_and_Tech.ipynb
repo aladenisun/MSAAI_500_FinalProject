{
  "cells": [
    {
      "cell_type": "markdown",
      "metadata": {
        "id": "LpgVDD0cSug9"
      },
      "source": [
        "# Install Required Libraries and Dependencies and Read In Initial Dataset"
      ]
    },
    {
      "cell_type": "code",
      "execution_count": 2,
      "metadata": {
        "id": "918Cokg0Hvs6"
      },
      "outputs": [],
      "source": [
        "# Import necessary libraries and components\n",
        "\n",
        "import pandas as pd\n",
        "import numpy as np\n",
        "import matplotlib.pyplot as plt\n",
        "import seaborn as sns\n",
        "import statsmodels.api as sm\n",
        "import patsy as pt\n",
        "from scipy import stats\n",
        "from sklearn.model_selection import train_test_split\n",
        "from sklearn.metrics import accuracy_score, precision_score, recall_score, f1_score, roc_auc_score\n",
        "from scipy.stats import chi2_contingency"
      ]
    },
    {
      "cell_type": "code",
      "execution_count": null,
      "metadata": {
        "colab": {
          "base_uri": "https://localhost:8080/",
          "height": 365
        },
        "id": "ut90SZ_jSsn_",
        "outputId": "d441213e-e928-49dd-e64e-b3865db91900"
      },
      "outputs": [],
      "source": [
        "# Read in initial dataset\n",
        "# Create a datafram for initial dataset\n",
        "# Inspect first several rows\n",
        "\n",
        "tech_df = pd.read_csv(\"https://img1.wsimg.com/blobby/go/95a603d1-9621-42dd-ac5a-bc61ff2699b4/downloads/46e78d8b-3941-4da9-a204-93f612493201/data.csv?ver=1758495217438\")\n",
        "tech_df.head()"
      ]
    },
    {
      "cell_type": "code",
      "execution_count": null,
      "metadata": {
        "colab": {
          "base_uri": "https://localhost:8080/",
          "height": 300
        },
        "id": "34eoYF_QXH03",
        "outputId": "e374cbaf-5b10-4e43-c5ca-f91b1f314549"
      },
      "outputs": [],
      "source": [
        "tech_df.describe()"
      ]
    },
    {
      "cell_type": "markdown",
      "metadata": {
        "id": "Qge0Rl_KgAkO"
      },
      "source": [
        "### Description of Initial Dataset\n",
        "1,242 rows each with 11 variables:\n",
        "- tech_company\n",
        "- benefits\n",
        "- workplace_resources\n",
        "- mh_employer_discussion\n",
        "- mh_coworker_discussion\n",
        "- medical_coverage\n",
        "- mental_health\n",
        "- mh_share\n",
        "- age\n",
        "- gender\n",
        "- country"
      ]
    },
    {
      "cell_type": "code",
      "execution_count": null,
      "metadata": {
        "colab": {
          "base_uri": "https://localhost:8080/"
        },
        "id": "isKDRMLHXhR_",
        "outputId": "5cad5298-1ec6-4388-8316-569ef7c9cfdc"
      },
      "outputs": [],
      "source": [
        "# Loop through columns to describe each variable and its value counts\n",
        "\n",
        "columns_to_count = ['tech_company', 'benefits', 'workplace_resources',\t'mh_employer_discussion',\t'mh_coworker_discussion',\t'medical_coverage',\t'mental_health',\t'mh_share',\t'age',\t'gender',\t'country']\n",
        "\n",
        "for column in columns_to_count:\n",
        "    print(f\"Value counts for column '{column}':\")\n",
        "    print(tech_df[column].value_counts())\n",
        "    print(\"\\n\")\n"
      ]
    },
    {
      "cell_type": "markdown",
      "metadata": {
        "id": "TYtQcO5fJpXT"
      },
      "source": [
        "# Exploratory Data Analysis:"
      ]
    },
    {
      "cell_type": "code",
      "execution_count": null,
      "metadata": {
        "colab": {
          "base_uri": "https://localhost:8080/",
          "height": 472
        },
        "id": "ZeTGG4-eah8t",
        "outputId": "5c2e70b1-3373-43ba-cfd6-57e3e654a29c"
      },
      "outputs": [],
      "source": [
        "# Step 2: Exploratory Data Analysis (EDA)\n",
        "# --------------------------------------------------\n",
        "\n",
        "# Bar chart of mental health reports - all respondents\n",
        "sns.countplot(data=tech_df, x=\"mental_health\", order=[\"Yes\", \"No\"])\n",
        "plt.title(\"Reported Mental Health Issues - All Respondents\")\n",
        "plt.show()"
      ]
    },
    {
      "cell_type": "code",
      "execution_count": null,
      "metadata": {
        "colab": {
          "base_uri": "https://localhost:8080/",
          "height": 472
        },
        "id": "jw4-0nkxKiIE",
        "outputId": "fc9600f8-a1ed-43a5-938c-1942371eaf96"
      },
      "outputs": [],
      "source": [
        "# Bar chart of mental health reports - only respondents working for tech company\n",
        "\n",
        "sns.countplot(data=tech_df[tech_df['tech_company'] == \"Yes\"], x=\"mental_health\", order=[\"Yes\", \"No\"])\n",
        "plt.title(\"Reported Mental Health Issues - Tech Respondents\")\n",
        "plt.show()\n"
      ]
    },
    {
      "cell_type": "code",
      "execution_count": null,
      "metadata": {
        "colab": {
          "base_uri": "https://localhost:8080/",
          "height": 481
        },
        "id": "aCk3OZhgL1Qh",
        "outputId": "dd6f2782-5d4d-4ebc-8d77-7828c711fc6a"
      },
      "outputs": [],
      "source": [
        "# Stacked bar: Benefits vs Mental Health\n",
        "ct = pd.crosstab(tech_df[\"benefits\"], tech_df[\"mental_health\"], normalize=\"index\")\n",
        "ct.plot(kind=\"bar\", stacked=True, figsize=(6,4), colormap=\"viridis\")\n",
        "plt.title(\"Mental Health by Benefits\")\n",
        "plt.ylabel(\"Proportion\")\n",
        "plt.show()"
      ]
    },
    {
      "cell_type": "code",
      "execution_count": null,
      "metadata": {
        "colab": {
          "base_uri": "https://localhost:8080/",
          "height": 481
        },
        "id": "Ly5wz0r5MHJW",
        "outputId": "5f31642d-b766-49d7-f998-d56953f8f57d"
      },
      "outputs": [],
      "source": [
        "# Stacked bar: Resources vs Mental Health\n",
        "ct2 = pd.crosstab(tech_df[\"workplace_resources\"], tech_df[\"mental_health\"], normalize=\"index\")\n",
        "ct2.plot(kind=\"bar\", stacked=True, figsize=(6,4), colormap=\"plasma\")\n",
        "plt.title(\"Mental Health by Workplace Resources\")\n",
        "plt.ylabel(\"Proportion\")\n",
        "plt.show()"
      ]
    },
    {
      "cell_type": "code",
      "execution_count": null,
      "metadata": {
        "colab": {
          "base_uri": "https://localhost:8080/",
          "height": 581
        },
        "id": "Uss7VOGbMP4g",
        "outputId": "55574cd1-156d-469f-ae97-1aca92b607d3"
      },
      "outputs": [],
      "source": [
        "# Boxplot: Age by mental health\n",
        "sns.boxplot(data=tech_df, x=\"mental_health\", y=\"age\", order=[\"Yes\", \"No\"], palette=\"Set2\")\n",
        "plt.title(\"Age Distribution by Mental Health\")\n",
        "plt.show()"
      ]
    }
  ],
  "metadata": {
    "colab": {
      "provenance": []
    },
    "kernelspec": {
      "display_name": "Python 3",
      "name": "python3"
    },
    "language_info": {
      "name": "python"
    }
  },
  "nbformat": 4,
  "nbformat_minor": 0
}
